{
 "cells": [
  {
   "cell_type": "markdown",
   "metadata": {},
   "source": [
    "# Introduction to Linear Regression"
   ]
  },
  {
   "cell_type": "code",
   "execution_count": 21,
   "metadata": {},
   "outputs": [],
   "source": [
    "import numpy as np\n",
    "import pandas as pd\n",
    "import matplotlib.pyplot as plt"
   ]
  },
  {
   "cell_type": "code",
   "execution_count": 22,
   "metadata": {},
   "outputs": [],
   "source": [
    "# Generate Some Data\n",
    "\n",
    "# How Many Samples?\n",
    "n = 200\n",
    "\n",
    "# Create an artificial INDEPENDANT Variable\n",
    "x = np.random.sample(n)*20\n",
    "\n",
    "# Add 50 to each sample \n",
    "a = np.random.sample(n)*20 + 50\n",
    "\n",
    "# Set Your Slope \n",
    "b = 3.5\n",
    "\n",
    "# Calculate your DEPENDANT Variable \n",
    "y = b*x + a\n",
    "\n",
    "# We don't add the random error to our dataset, in real life it is unknown\n",
    "# We also don't know b apriori. b is exactly what we want to find\n",
    "# And the 'expected value' of a\n",
    "\n",
    "# Cast Into A Dataframe\n",
    "df = pd.DataFrame({'feature1':x})"
   ]
  },
  {
   "cell_type": "code",
   "execution_count": 23,
   "metadata": {},
   "outputs": [
    {
     "name": "stdout",
     "output_type": "stream",
     "text": [
      "(200, 2)\n"
     ]
    },
    {
     "data": {
      "text/html": [
       "<div>\n",
       "<style scoped>\n",
       "    .dataframe tbody tr th:only-of-type {\n",
       "        vertical-align: middle;\n",
       "    }\n",
       "\n",
       "    .dataframe tbody tr th {\n",
       "        vertical-align: top;\n",
       "    }\n",
       "\n",
       "    .dataframe thead th {\n",
       "        text-align: right;\n",
       "    }\n",
       "</style>\n",
       "<table border=\"1\" class=\"dataframe\">\n",
       "  <thead>\n",
       "    <tr style=\"text-align: right;\">\n",
       "      <th></th>\n",
       "      <th>feature1</th>\n",
       "      <th>target</th>\n",
       "    </tr>\n",
       "  </thead>\n",
       "  <tbody>\n",
       "    <tr>\n",
       "      <td>0</td>\n",
       "      <td>2.768717</td>\n",
       "      <td>70.573283</td>\n",
       "    </tr>\n",
       "    <tr>\n",
       "      <td>1</td>\n",
       "      <td>16.127617</td>\n",
       "      <td>109.001919</td>\n",
       "    </tr>\n",
       "    <tr>\n",
       "      <td>2</td>\n",
       "      <td>10.193025</td>\n",
       "      <td>88.685467</td>\n",
       "    </tr>\n",
       "    <tr>\n",
       "      <td>3</td>\n",
       "      <td>17.498514</td>\n",
       "      <td>112.798433</td>\n",
       "    </tr>\n",
       "    <tr>\n",
       "      <td>4</td>\n",
       "      <td>15.186021</td>\n",
       "      <td>114.033344</td>\n",
       "    </tr>\n",
       "  </tbody>\n",
       "</table>\n",
       "</div>"
      ],
      "text/plain": [
       "    feature1      target\n",
       "0   2.768717   70.573283\n",
       "1  16.127617  109.001919\n",
       "2  10.193025   88.685467\n",
       "3  17.498514  112.798433\n",
       "4  15.186021  114.033344"
      ]
     },
     "execution_count": 23,
     "metadata": {},
     "output_type": "execute_result"
    },
    {
     "data": {
      "image/png": "[encoded data removed]",
      "text/plain": [
       "<Figure size 432x288 with 1 Axes>"
      ]
     },
     "metadata": {
      "needs_background": "light"
     },
     "output_type": "display_data"
    }
   ],
   "source": [
    "# Having a look at the data\n",
    "\n",
    "# Assign Y to be our Target Variable \n",
    "df['target'] = y\n",
    "\n",
    "\n",
    "fig, ax = plt.subplots()\n",
    "\n",
    "ax.scatter(x,y)\n",
    "\n",
    "xmin = 0\n",
    "xmax = 20\n",
    "ymin = 0\n",
    "ymax = 200\n",
    "\n",
    "axes = plt.gca()\n",
    "axes.set_xlim([xmin,xmax])\n",
    "axes.set_ylim([ymin,ymax])\n",
    "\n",
    "plt.title(\"Some Very Fake Data\")\n",
    "plt.xlabel(\"Independant Variable\")\n",
    "plt.ylabel(\"Dependant Variable\")\n",
    "\n",
    "\n",
    "print(df.shape)\n",
    "df.head()"
   ]
  },
  {
   "cell_type": "code",
   "execution_count": 24,
   "metadata": {},
   "outputs": [],
   "source": [
    "# Pre-processing \n",
    "\n",
    "# Here We separarte our Variables \n",
    "\n",
    "X = df.drop('target',axis=1)\n",
    "y = df['target']"
   ]
  },
  {
   "cell_type": "markdown",
   "metadata": {},
   "source": [
    "### Regression in [SciKit Learn](https://scikit-learn.org/stable/modules/generated/sklearn.linear_model.LinearRegression.html)"
   ]
  },
  {
   "cell_type": "code",
   "execution_count": 25,
   "metadata": {
    "scrolled": true
   },
   "outputs": [
    {
     "name": "stdout",
     "output_type": "stream",
     "text": [
      "R2 = 0.93\n",
      "constant: 61.1632\n",
      "coeficients: real 3.5 vs [3.4211] estimated\n"
     ]
    }
   ],
   "source": [
    "from sklearn.linear_model import LinearRegression\n",
    "\n",
    "# Setting up the LEARNER\n",
    "model_skl = LinearRegression(fit_intercept=True)\n",
    "\n",
    "# Actually LEARNING\n",
    "model_skl.fit(X,y)\n",
    "\n",
    "# Evaluating performance\n",
    "r2 = model_skl.score(X,y)\n",
    "r2 = r2.round(2)\n",
    "print('R2 = {}'.format(r2))\n",
    "\n",
    "# Understanding the LEARNED model\n",
    "est_a = model_skl.intercept_\n",
    "est_b = model_skl.coef_\n",
    "print('constant: {}'.format(round(est_a,4)))\n",
    "print('coeficients: real {} vs {} estimated'.format(b,est_b.round(4)))"
   ]
  },
  {
   "cell_type": "markdown",
   "metadata": {},
   "source": [
    "### Regression in [Statsmodels](https://www.statsmodels.org/dev/generated/statsmodels.regression.linear_model.OLS.html) and its [Interpretation](https://www.statsmodels.org/dev/generated/statsmodels.regression.linear_model.RegressionResults.html#statsmodels.regression.linear_model.RegressionResults)"
   ]
  },
  {
   "cell_type": "code",
   "execution_count": 26,
   "metadata": {},
   "outputs": [
    {
     "name": "stdout",
     "output_type": "stream",
     "text": [
      "R2 = 0.93\n",
      "const       61.1632\n",
      "feature1     3.4211\n",
      "dtype: float64\n"
     ]
    },
    {
     "name": "stderr",
     "output_type": "stream",
     "text": [
      "/usr/local/anaconda3/lib/python3.7/site-packages/numpy/core/fromnumeric.py:2495: FutureWarning: Method .ptp is deprecated and will be removed in a future version. Use numpy.ptp instead.\n",
      "  return ptp(axis=axis, out=out, **kwargs)\n"
     ]
    }
   ],
   "source": [
    "import statsmodels.api as sm\n",
    "\n",
    "# Setting up the LEARNER\n",
    "X = sm.add_constant(X)\n",
    "model_sm = sm.OLS(y,X)\n",
    "\n",
    "# Actually LEARNING\n",
    "results = model_sm.fit()\n",
    "\n",
    "# Evaluating performance\n",
    "r2 = results.rsquared\n",
    "r2 = r2.round(2)\n",
    "print('R2 = {}'.format(r2))\n",
    "\n",
    "# # Understanding the LEARNED model\n",
    "est_b = results.params\n",
    "print(est_b.round(4))"
   ]
  },
  {
   "cell_type": "markdown",
   "metadata": {},
   "source": [
    "### Statsmodels superpower"
   ]
  },
  {
   "cell_type": "code",
   "execution_count": 27,
   "metadata": {},
   "outputs": [
    {
     "data": {
      "text/html": [
       "<table class=\"simpletable\">\n",
       "<caption>OLS Regression Results</caption>\n",
       "<tr>\n",
       "  <th>Dep. Variable:</th>         <td>target</td>      <th>  R-squared:         </th> <td>   0.927</td> \n",
       "</tr>\n",
       "<tr>\n",
       "  <th>Model:</th>                   <td>OLS</td>       <th>  Adj. R-squared:    </th> <td>   0.927</td> \n",
       "</tr>\n",
       "<tr>\n",
       "  <th>Method:</th>             <td>Least Squares</td>  <th>  F-statistic:       </th> <td>   2511.</td> \n",
       "</tr>\n",
       "<tr>\n",
       "  <th>Date:</th>             <td>Mon, 16 Mar 2020</td> <th>  Prob (F-statistic):</th> <td>1.92e-114</td>\n",
       "</tr>\n",
       "<tr>\n",
       "  <th>Time:</th>                 <td>17:12:40</td>     <th>  Log-Likelihood:    </th> <td> -637.25</td> \n",
       "</tr>\n",
       "<tr>\n",
       "  <th>No. Observations:</th>      <td>   200</td>      <th>  AIC:               </th> <td>   1279.</td> \n",
       "</tr>\n",
       "<tr>\n",
       "  <th>Df Residuals:</th>          <td>   198</td>      <th>  BIC:               </th> <td>   1285.</td> \n",
       "</tr>\n",
       "<tr>\n",
       "  <th>Df Model:</th>              <td>     1</td>      <th>                     </th>     <td> </td>    \n",
       "</tr>\n",
       "<tr>\n",
       "  <th>Covariance Type:</th>      <td>nonrobust</td>    <th>                     </th>     <td> </td>    \n",
       "</tr>\n",
       "</table>\n",
       "<table class=\"simpletable\">\n",
       "<tr>\n",
       "      <td></td>        <th>coef</th>     <th>std err</th>      <th>t</th>      <th>P>|t|</th>  <th>[0.025</th>    <th>0.975]</th>  \n",
       "</tr>\n",
       "<tr>\n",
       "  <th>const</th>    <td>   61.1632</td> <td>    0.793</td> <td>   77.108</td> <td> 0.000</td> <td>   59.599</td> <td>   62.727</td>\n",
       "</tr>\n",
       "<tr>\n",
       "  <th>feature1</th> <td>    3.4211</td> <td>    0.068</td> <td>   50.115</td> <td> 0.000</td> <td>    3.287</td> <td>    3.556</td>\n",
       "</tr>\n",
       "</table>\n",
       "<table class=\"simpletable\">\n",
       "<tr>\n",
       "  <th>Omnibus:</th>       <td>61.666</td> <th>  Durbin-Watson:     </th> <td>   2.007</td>\n",
       "</tr>\n",
       "<tr>\n",
       "  <th>Prob(Omnibus):</th> <td> 0.000</td> <th>  Jarque-Bera (JB):  </th> <td>  10.888</td>\n",
       "</tr>\n",
       "<tr>\n",
       "  <th>Skew:</th>          <td>-0.107</td> <th>  Prob(JB):          </th> <td> 0.00432</td>\n",
       "</tr>\n",
       "<tr>\n",
       "  <th>Kurtosis:</th>      <td> 1.877</td> <th>  Cond. No.          </th> <td>    22.3</td>\n",
       "</tr>\n",
       "</table><br/><br/>Warnings:<br/>[1] Standard Errors assume that the covariance matrix of the errors is correctly specified."
      ],
      "text/plain": [
       "<class 'statsmodels.iolib.summary.Summary'>\n",
       "\"\"\"\n",
       "                            OLS Regression Results                            \n",
       "==============================================================================\n",
       "Dep. Variable:                 target   R-squared:                       0.927\n",
       "Model:                            OLS   Adj. R-squared:                  0.927\n",
       "Method:                 Least Squares   F-statistic:                     2511.\n",
       "Date:                Mon, 16 Mar 2020   Prob (F-statistic):          1.92e-114\n",
       "Time:                        17:12:40   Log-Likelihood:                -637.25\n",
       "No. Observations:                 200   AIC:                             1279.\n",
       "Df Residuals:                     198   BIC:                             1285.\n",
       "Df Model:                           1                                         \n",
       "Covariance Type:            nonrobust                                         \n",
       "==============================================================================\n",
       "                 coef    std err          t      P>|t|      [0.025      0.975]\n",
       "------------------------------------------------------------------------------\n",
       "const         61.1632      0.793     77.108      0.000      59.599      62.727\n",
       "feature1       3.4211      0.068     50.115      0.000       3.287       3.556\n",
       "==============================================================================\n",
       "Omnibus:                       61.666   Durbin-Watson:                   2.007\n",
       "Prob(Omnibus):                  0.000   Jarque-Bera (JB):               10.888\n",
       "Skew:                          -0.107   Prob(JB):                      0.00432\n",
       "Kurtosis:                       1.877   Cond. No.                         22.3\n",
       "==============================================================================\n",
       "\n",
       "Warnings:\n",
       "[1] Standard Errors assume that the covariance matrix of the errors is correctly specified.\n",
       "\"\"\""
      ]
     },
     "execution_count": 27,
     "metadata": {},
     "output_type": "execute_result"
    }
   ],
   "source": [
    "results.summary()"
   ]
  },
  {
   "cell_type": "markdown",
   "metadata": {},
   "source": [
    "# Your Turn!\n",
    "\n",
    "Use the next 15 minutes to recreate (literally copy and paste as much as you can!) to attempt to predict a sheep's weight from their fatness. \n",
    "\n",
    "Run this model with statsmodels and plot your data!"
   ]
  },
  {
   "cell_type": "markdown",
   "metadata": {},
   "source": [
    "Depending on the breed, it depends on how much an average sheep weighs! "
   ]
  },
  {
   "cell_type": "markdown",
   "metadata": {},
   "source": [
    "According to https://thesheepsite.com/focus/5m/99/global-sheep-meat-market-thesheepsite there are 1 billion sheep in the world. For this reason, i'm going to do a sample size of about 200. "
   ]
  },
  {
   "cell_type": "markdown",
   "metadata": {},
   "source": [
    "I need to identify the slope. I will do this by picking two random points that I will assume to be within the sample set of the sheep. The x will be the fatness of the sheep and the y will be the weight of the sheep. The (3,70) and (5, 160)"
   ]
  },
  {
   "cell_type": "markdown",
   "metadata": {},
   "source": [
    "When given this problem I first think of how this should be layed out in terms of sample size, slope. I also visualise \n",
    "whether this will be directly related. Which it will be. I then want to put this in to a visual. I don't know a lot about\n",
    "sheeps but just from a 2 minute google search I know that this will be wildly inaccurate. "
   ]
  },
  {
   "cell_type": "code",
   "execution_count": 50,
   "metadata": {},
   "outputs": [],
   "source": [
    "# Generate Some Data\n",
    "\n",
    "# How Many Samples?\n",
    "n = 200\n",
    "\n",
    "# Create an artificial INDEPENDANT Variable\n",
    "x = np.random.sample(n)*200\n",
    "\n",
    "# Add 50 to each sample \n",
    "a = 50\n",
    "\n",
    "# Set Your Slope \n",
    "b = 4.5\n",
    "\n",
    "# Calculate your DEPENDANT Variable \n",
    "y = b*x + a\n",
    "\n",
    "# We don't add the random error to our dataset, in real life it is unknown\n",
    "# We also don't know b apriori. b is exactly what we want to find\n",
    "# And the 'expected value' of a\n",
    "\n",
    "# Cast Into A Dataframe\n",
    "df = pd.DataFrame({'fatness':x})"
   ]
  },
  {
   "cell_type": "markdown",
   "metadata": {},
   "source": [
    "So above I originally tried my slope of 45, it didn't process it after about 10 minutes, I assumed it was too big or too inaccurate for the what we're trying to model/achieve. So I changed the slope to 4.5 Another thing I noticed, thanks to Javi is that `a` should be a constant number. In the above example `a = np.random.sample(n)*20 + 50` which really doesn't place nicely when I try to run my code. Javi informed me that it should just be a number. So I swtiched this to be 50. (sheeps range in weight from 40 to 160 kg!)"
   ]
  },
  {
   "cell_type": "code",
   "execution_count": 51,
   "metadata": {},
   "outputs": [
    {
     "name": "stdout",
     "output_type": "stream",
     "text": [
      "(200, 2)\n"
     ]
    },
    {
     "data": {
      "text/html": [
       "<div>\n",
       "<style scoped>\n",
       "    .dataframe tbody tr th:only-of-type {\n",
       "        vertical-align: middle;\n",
       "    }\n",
       "\n",
       "    .dataframe tbody tr th {\n",
       "        vertical-align: top;\n",
       "    }\n",
       "\n",
       "    .dataframe thead th {\n",
       "        text-align: right;\n",
       "    }\n",
       "</style>\n",
       "<table border=\"1\" class=\"dataframe\">\n",
       "  <thead>\n",
       "    <tr style=\"text-align: right;\">\n",
       "      <th></th>\n",
       "      <th>fatness</th>\n",
       "      <th>weight</th>\n",
       "    </tr>\n",
       "  </thead>\n",
       "  <tbody>\n",
       "    <tr>\n",
       "      <td>0</td>\n",
       "      <td>34.430789</td>\n",
       "      <td>204.938550</td>\n",
       "    </tr>\n",
       "    <tr>\n",
       "      <td>1</td>\n",
       "      <td>28.721322</td>\n",
       "      <td>179.245949</td>\n",
       "    </tr>\n",
       "    <tr>\n",
       "      <td>2</td>\n",
       "      <td>151.033586</td>\n",
       "      <td>729.651137</td>\n",
       "    </tr>\n",
       "    <tr>\n",
       "      <td>3</td>\n",
       "      <td>169.430759</td>\n",
       "      <td>812.438413</td>\n",
       "    </tr>\n",
       "    <tr>\n",
       "      <td>4</td>\n",
       "      <td>152.473944</td>\n",
       "      <td>736.132750</td>\n",
       "    </tr>\n",
       "  </tbody>\n",
       "</table>\n",
       "</div>"
      ],
      "text/plain": [
       "      fatness      weight\n",
       "0   34.430789  204.938550\n",
       "1   28.721322  179.245949\n",
       "2  151.033586  729.651137\n",
       "3  169.430759  812.438413\n",
       "4  152.473944  736.132750"
      ]
     },
     "execution_count": 51,
     "metadata": {},
     "output_type": "execute_result"
    },
    {
     "data": {
      "image/png": "[encoded data removed]",
      "text/plain": [
       "<Figure size 432x288 with 1 Axes>"
      ]
     },
     "metadata": {
      "needs_background": "light"
     },
     "output_type": "display_data"
    }
   ],
   "source": [
    "# Having a look at the data\n",
    "\n",
    "# Assign Y to be our Target Variable \n",
    "df['weight'] = y\n",
    "\n",
    "\n",
    "fig, ax = plt.subplots()\n",
    "\n",
    "ax.scatter(x,y)\n",
    "\n",
    "xmin = 0\n",
    "xmax = 20\n",
    "ymin = 0\n",
    "ymax = 200\n",
    "\n",
    "axes = plt.gca()\n",
    "axes.set_xlim([xmin,xmax])\n",
    "axes.set_ylim([ymin,ymax])\n",
    "\n",
    "plt.title(\"Some Very Fake Data\")\n",
    "plt.xlabel(\"Fatness\")\n",
    "plt.ylabel(\"Weight\")\n",
    "\n",
    "\n",
    "print(df.shape)\n",
    "df.head()"
   ]
  },
  {
   "cell_type": "code",
   "execution_count": 52,
   "metadata": {},
   "outputs": [],
   "source": [
    "X = df.drop('fatness',axis=1)\n",
    "y = df['fatness']"
   ]
  },
  {
   "cell_type": "code",
   "execution_count": 53,
   "metadata": {},
   "outputs": [
    {
     "name": "stdout",
     "output_type": "stream",
     "text": [
      "R2 = 1.0\n",
      "constant: -11.1111\n",
      "coeficients: real 4.5 vs [0.2222] estimated\n"
     ]
    }
   ],
   "source": [
    "from sklearn.linear_model import LinearRegression\n",
    "\n",
    "# Setting up the LEARNER\n",
    "model_skl = LinearRegression(fit_intercept=True)\n",
    "\n",
    "# Actually LEARNING\n",
    "model_skl.fit(X,y)\n",
    "\n",
    "# Evaluating performance\n",
    "r2 = model_skl.score(X,y)\n",
    "r2 = r2.round(2)\n",
    "print('R2 = {}'.format(r2))\n",
    "\n",
    "# Understanding the LEARNED model\n",
    "est_a = model_skl.intercept_\n",
    "est_b = model_skl.coef_\n",
    "print('constant: {}'.format(round(est_a,4)))\n",
    "print('coeficients: real {} vs {} estimated'.format(b,est_b.round(4)))"
   ]
  },
  {
   "cell_type": "code",
   "execution_count": 54,
   "metadata": {},
   "outputs": [
    {
     "name": "stdout",
     "output_type": "stream",
     "text": [
      "R2 = 1.0\n",
      "const    -11.1111\n",
      "weight     0.2222\n",
      "dtype: float64\n"
     ]
    },
    {
     "name": "stderr",
     "output_type": "stream",
     "text": [
      "/usr/local/anaconda3/lib/python3.7/site-packages/numpy/core/fromnumeric.py:2495: FutureWarning: Method .ptp is deprecated and will be removed in a future version. Use numpy.ptp instead.\n",
      "  return ptp(axis=axis, out=out, **kwargs)\n"
     ]
    }
   ],
   "source": [
    "import statsmodels.api as sm\n",
    "\n",
    "# Setting up the LEARNER\n",
    "X = sm.add_constant(X)\n",
    "model_sm = sm.OLS(y,X)\n",
    "\n",
    "# Actually LEARNING\n",
    "results = model_sm.fit()\n",
    "\n",
    "# Evaluating performance\n",
    "r2 = results.rsquared\n",
    "r2 = r2.round(2)\n",
    "print('R2 = {}'.format(r2))\n",
    "\n",
    "# # Understanding the LEARNED model\n",
    "est_b = results.params\n",
    "print(est_b.round(4))"
   ]
  },
  {
   "cell_type": "code",
   "execution_count": 55,
   "metadata": {},
   "outputs": [
    {
     "data": {
      "text/html": [
       "<table class=\"simpletable\">\n",
       "<caption>OLS Regression Results</caption>\n",
       "<tr>\n",
       "  <th>Dep. Variable:</th>         <td>fatness</td>     <th>  R-squared:         </th>  <td>   1.000</td> \n",
       "</tr>\n",
       "<tr>\n",
       "  <th>Model:</th>                   <td>OLS</td>       <th>  Adj. R-squared:    </th>  <td>   1.000</td> \n",
       "</tr>\n",
       "<tr>\n",
       "  <th>Method:</th>             <td>Least Squares</td>  <th>  F-statistic:       </th>  <td>1.483e+32</td>\n",
       "</tr>\n",
       "<tr>\n",
       "  <th>Date:</th>             <td>Mon, 16 Mar 2020</td> <th>  Prob (F-statistic):</th>   <td>  0.00</td>  \n",
       "</tr>\n",
       "<tr>\n",
       "  <th>Time:</th>                 <td>17:51:22</td>     <th>  Log-Likelihood:    </th>  <td>  5785.8</td> \n",
       "</tr>\n",
       "<tr>\n",
       "  <th>No. Observations:</th>      <td>   200</td>      <th>  AIC:               </th> <td>-1.157e+04</td>\n",
       "</tr>\n",
       "<tr>\n",
       "  <th>Df Residuals:</th>          <td>   198</td>      <th>  BIC:               </th> <td>-1.156e+04</td>\n",
       "</tr>\n",
       "<tr>\n",
       "  <th>Df Model:</th>              <td>     1</td>      <th>                     </th>      <td> </td>    \n",
       "</tr>\n",
       "<tr>\n",
       "  <th>Covariance Type:</th>      <td>nonrobust</td>    <th>                     </th>      <td> </td>    \n",
       "</tr>\n",
       "</table>\n",
       "<table class=\"simpletable\">\n",
       "<tr>\n",
       "     <td></td>       <th>coef</th>     <th>std err</th>      <th>t</th>      <th>P>|t|</th>  <th>[0.025</th>    <th>0.975]</th>  \n",
       "</tr>\n",
       "<tr>\n",
       "  <th>const</th>  <td>  -11.1111</td> <td> 1.08e-14</td> <td>-1.03e+15</td> <td> 0.000</td> <td>  -11.111</td> <td>  -11.111</td>\n",
       "</tr>\n",
       "<tr>\n",
       "  <th>weight</th> <td>    0.2222</td> <td> 1.82e-17</td> <td> 1.22e+16</td> <td> 0.000</td> <td>    0.222</td> <td>    0.222</td>\n",
       "</tr>\n",
       "</table>\n",
       "<table class=\"simpletable\">\n",
       "<tr>\n",
       "  <th>Omnibus:</th>       <td>47.145</td> <th>  Durbin-Watson:     </th> <td>   0.527</td>\n",
       "</tr>\n",
       "<tr>\n",
       "  <th>Prob(Omnibus):</th> <td> 0.000</td> <th>  Jarque-Bera (JB):  </th> <td>  10.235</td>\n",
       "</tr>\n",
       "<tr>\n",
       "  <th>Skew:</th>          <td>-0.151</td> <th>  Prob(JB):          </th> <td> 0.00599</td>\n",
       "</tr>\n",
       "<tr>\n",
       "  <th>Kurtosis:</th>      <td> 1.934</td> <th>  Cond. No.          </th> <td>1.35e+03</td>\n",
       "</tr>\n",
       "</table><br/><br/>Warnings:<br/>[1] Standard Errors assume that the covariance matrix of the errors is correctly specified.<br/>[2] The condition number is large, 1.35e+03. This might indicate that there are<br/>strong multicollinearity or other numerical problems."
      ],
      "text/plain": [
       "<class 'statsmodels.iolib.summary.Summary'>\n",
       "\"\"\"\n",
       "                            OLS Regression Results                            \n",
       "==============================================================================\n",
       "Dep. Variable:                fatness   R-squared:                       1.000\n",
       "Model:                            OLS   Adj. R-squared:                  1.000\n",
       "Method:                 Least Squares   F-statistic:                 1.483e+32\n",
       "Date:                Mon, 16 Mar 2020   Prob (F-statistic):               0.00\n",
       "Time:                        17:51:22   Log-Likelihood:                 5785.8\n",
       "No. Observations:                 200   AIC:                        -1.157e+04\n",
       "Df Residuals:                     198   BIC:                        -1.156e+04\n",
       "Df Model:                           1                                         \n",
       "Covariance Type:            nonrobust                                         \n",
       "==============================================================================\n",
       "                 coef    std err          t      P>|t|      [0.025      0.975]\n",
       "------------------------------------------------------------------------------\n",
       "const        -11.1111   1.08e-14  -1.03e+15      0.000     -11.111     -11.111\n",
       "weight         0.2222   1.82e-17   1.22e+16      0.000       0.222       0.222\n",
       "==============================================================================\n",
       "Omnibus:                       47.145   Durbin-Watson:                   0.527\n",
       "Prob(Omnibus):                  0.000   Jarque-Bera (JB):               10.235\n",
       "Skew:                          -0.151   Prob(JB):                      0.00599\n",
       "Kurtosis:                       1.934   Cond. No.                     1.35e+03\n",
       "==============================================================================\n",
       "\n",
       "Warnings:\n",
       "[1] Standard Errors assume that the covariance matrix of the errors is correctly specified.\n",
       "[2] The condition number is large, 1.35e+03. This might indicate that there are\n",
       "strong multicollinearity or other numerical problems.\n",
       "\"\"\""
      ]
     },
     "execution_count": 55,
     "metadata": {},
     "output_type": "execute_result"
    }
   ],
   "source": [
    "results.summary()"
   ]
  },
  {
   "cell_type": "markdown",
   "metadata": {},
   "source": [
    "By looking at the `const` and the `weight` I know I did something wrong here. Also the weight should not be so low. "
   ]
  },
  {
   "cell_type": "code",
   "execution_count": null,
   "metadata": {},
   "outputs": [],
   "source": []
  }
 ],
 "metadata": {
  "kernelspec": {
   "display_name": "Python 3",
   "language": "python",
   "name": "python3"
  },
  "language_info": {
   "codemirror_mode": {
    "name": "ipython",
    "version": 3
   },
   "file_extension": ".py",
   "mimetype": "text/x-python",
   "name": "python",
   "nbconvert_exporter": "python",
   "pygments_lexer": "ipython3",
   "version": "3.7.4"
  }
 },
 "nbformat": 4,
 "nbformat_minor": 2
}
