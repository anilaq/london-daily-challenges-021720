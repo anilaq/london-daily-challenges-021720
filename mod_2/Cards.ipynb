{
 "cells": [
  {
   "cell_type": "markdown",
   "metadata": {},
   "source": [
    "# Probability \n",
    "\n",
    "A standard deck of playing cards consists of 52 cards in each of the four suits of spades, hearts, diamonds, and clubs. Each suit contains 13 cards: Ace, 2, 3, 4, 5, 6, 7, 8, 9, 10, Jack, Queen, and King.\n",
    "\n",
    "You have a standard deck of 52 cards and are asked the following questions:\n",
    "\n",
    "Question 1: What is the probability of drawing a King or a Queen?\n",
    "\n",
    "Question 2: What is the probability of drawing an Ace followed by a club?\n",
    "\n",
    "Question 3: What is the probability of drawing a red card, then a black card, then red card?\n",
    "\n",
    "Question 4: How many possible 5-card combinations can be formed with this deck of 52 cards?\n",
    "\n",
    "Show all your work and thinking in Python!"
   ]
  },
  {
   "cell_type": "markdown",
   "metadata": {},
   "source": [
    "Question 1: The probability of getting a king and also getting a queen are would be exclusive. Therefore in this case we will use the law of additivity. "
   ]
  },
  {
   "cell_type": "code",
   "execution_count": 6,
   "metadata": {},
   "outputs": [
    {
     "data": {
      "text/plain": [
       "0.15384615384615385"
      ]
     },
     "execution_count": 6,
     "metadata": {},
     "output_type": "execute_result"
    }
   ],
   "source": [
    "# Code Here!\n",
    "Card_deck = range(1,52)\n",
    "prob_king = 4/52\n",
    "prob_queen = 4/52\n",
    "total_prob_kq = prob_king+prob_queen\n",
    "total_prob_kq"
   ]
  },
  {
   "cell_type": "markdown",
   "metadata": {},
   "source": [
    "Question 2: asks us the outcome of drawing an Ace followed by a club. As I was thinking about this in my head I realised that there could be a probability that the ace is a club. This is a (1/4) chance when drawing a club. \n",
    "This would change the second outcome of drawing a club (12/51). \n",
    "I am going to assume (with the advice from Javi that this is not happening). "
   ]
  },
  {
   "cell_type": "code",
   "execution_count": 3,
   "metadata": {},
   "outputs": [
    {
     "data": {
      "text/plain": [
       "0.0196078431372549"
      ]
     },
     "execution_count": 3,
     "metadata": {},
     "output_type": "execute_result"
    }
   ],
   "source": [
    "prob_ace = 4/52\n",
    "prob_club = 13/51\n",
    "prob_a_c = prob_ace*prob_club \n",
    "prob_a_c"
   ]
  },
  {
   "cell_type": "markdown",
   "metadata": {},
   "source": [
    "Question 3: There are 2 colors in a deck of 52. Red and Black, each color has 26 cards (2 suits of each color) \n"
   ]
  },
  {
   "cell_type": "code",
   "execution_count": 4,
   "metadata": {},
   "outputs": [
    {
     "data": {
      "text/plain": [
       "0.12745098039215685"
      ]
     },
     "execution_count": 4,
     "metadata": {},
     "output_type": "execute_result"
    }
   ],
   "source": [
    "prob_red1 = 26/52\n",
    "prob_black = 26/51\n",
    "prob_red2 = 25/50\n",
    "prob_2r_1b = prob_red1*prob_black*prob_red2\n",
    "prob_2r_1b"
   ]
  },
  {
   "cell_type": "markdown",
   "metadata": {},
   "source": [
    "Question 4: Possible 5 card combinations from a deck of 52 cards. \n",
    "I will assume that it is a normal deck with the appropriate amount of each. I am googling an already curated deck which will be a list of 52 cards. I know that from the lessons we can also do this by hand. I also see that by googling I can import combinations. I will do this. "
   ]
  },
  {
   "cell_type": "code",
   "execution_count": 15,
   "metadata": {},
   "outputs": [],
   "source": [
    "from itertools import combinations"
   ]
  },
  {
   "cell_type": "code",
   "execution_count": 16,
   "metadata": {},
   "outputs": [],
   "source": [
    "import itertools, random"
   ]
  },
  {
   "cell_type": "code",
   "execution_count": 17,
   "metadata": {},
   "outputs": [],
   "source": [
    "deck = list(itertools.product(range(1,14),['Spade','Heart','Diamond','Club']))"
   ]
  },
  {
   "cell_type": "code",
   "execution_count": 25,
   "metadata": {
    "scrolled": true
   },
   "outputs": [
    {
     "data": {
      "text/plain": [
       "[(1, 'Spade'),\n",
       " (1, 'Heart'),\n",
       " (1, 'Diamond'),\n",
       " (1, 'Club'),\n",
       " (2, 'Spade'),\n",
       " (2, 'Heart'),\n",
       " (2, 'Diamond'),\n",
       " (2, 'Club'),\n",
       " (3, 'Spade'),\n",
       " (3, 'Heart'),\n",
       " (3, 'Diamond'),\n",
       " (3, 'Club'),\n",
       " (4, 'Spade'),\n",
       " (4, 'Heart'),\n",
       " (4, 'Diamond'),\n",
       " (4, 'Club'),\n",
       " (5, 'Spade'),\n",
       " (5, 'Heart'),\n",
       " (5, 'Diamond'),\n",
       " (5, 'Club'),\n",
       " (6, 'Spade'),\n",
       " (6, 'Heart'),\n",
       " (6, 'Diamond'),\n",
       " (6, 'Club'),\n",
       " (7, 'Spade'),\n",
       " (7, 'Heart'),\n",
       " (7, 'Diamond'),\n",
       " (7, 'Club'),\n",
       " (8, 'Spade'),\n",
       " (8, 'Heart'),\n",
       " (8, 'Diamond'),\n",
       " (8, 'Club'),\n",
       " (9, 'Spade'),\n",
       " (9, 'Heart'),\n",
       " (9, 'Diamond'),\n",
       " (9, 'Club'),\n",
       " (10, 'Spade'),\n",
       " (10, 'Heart'),\n",
       " (10, 'Diamond'),\n",
       " (10, 'Club'),\n",
       " (11, 'Spade'),\n",
       " (11, 'Heart'),\n",
       " (11, 'Diamond'),\n",
       " (11, 'Club'),\n",
       " (12, 'Spade'),\n",
       " (12, 'Heart'),\n",
       " (12, 'Diamond'),\n",
       " (12, 'Club'),\n",
       " (13, 'Spade'),\n",
       " (13, 'Heart'),\n",
       " (13, 'Diamond'),\n",
       " (13, 'Club')]"
      ]
     },
     "execution_count": 25,
     "metadata": {},
     "output_type": "execute_result"
    }
   ],
   "source": [
    "deck"
   ]
  },
  {
   "cell_type": "code",
   "execution_count": 49,
   "metadata": {},
   "outputs": [
    {
     "data": {
      "text/plain": [
       "2598960"
      ]
     },
     "execution_count": 49,
     "metadata": {},
     "output_type": "execute_result"
    }
   ],
   "source": [
    "len(list(combinations(deck, 5)))"
   ]
  }
 ],
 "metadata": {
  "kernelspec": {
   "display_name": "Python 3",
   "language": "python",
   "name": "python3"
  },
  "language_info": {
   "codemirror_mode": {
    "name": "ipython",
    "version": 3
   },
   "file_extension": ".py",
   "mimetype": "text/x-python",
   "name": "python",
   "nbconvert_exporter": "python",
   "pygments_lexer": "ipython3",
   "version": "3.7.4"
  }
 },
 "nbformat": 4,
 "nbformat_minor": 2
}
