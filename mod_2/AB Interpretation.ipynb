{
 "cells": [
  {
   "cell_type": "markdown",
   "metadata": {},
   "source": [
    "# Interpreting an AB Test"
   ]
  },
  {
   "cell_type": "code",
   "execution_count": 1,
   "metadata": {},
   "outputs": [],
   "source": [
    "# estimate sample size via power analysis\n",
    "import statsmodels as sm\n",
    "from statsmodels.stats.power import TTestIndPower\n",
    "from statsmodels.stats.weightstats import ttest_ind\n",
    "import pandas as pd\n",
    "\n",
    "\n",
    "\n",
    "def cohen_d(mean_1, mean_2, pooled_sd):\n",
    "    diff = (mean_1 - mean_2)\n",
    "    cohen_d = diff/pooled_sd\n",
    "    return(cohen_d)\n",
    "    \n"
   ]
  },
  {
   "cell_type": "markdown",
   "metadata": {},
   "source": [
    "t test, a test that compare two \n",
    "whenever your data looks like a scatter with a line in it. \n",
    "Could we set up a t-test while having a before and after step? you could then get a paired t-test, but what we're doing. the probability outcome does not depend on the other. "
   ]
  },
  {
   "cell_type": "markdown",
   "metadata": {},
   "source": [
    "\n",
    "\n",
    "\n",
    "* Calculate Cohen's D for increasing click rate from 3% to 8%.\n",
    "* Assume the pooled standard deviation to be 14\n",
    "\n",
    "`Mean 1 - Mean 2 / pooled SD`"
   ]
  },
  {
   "cell_type": "code",
   "execution_count": 2,
   "metadata": {},
   "outputs": [
    {
     "data": {
      "text/plain": [
       "0.35714285714285715"
      ]
     },
     "execution_count": 2,
     "metadata": {},
     "output_type": "execute_result"
    }
   ],
   "source": [
    "cohen_d(8,3,14)"
   ]
  },
  {
   "cell_type": "markdown",
   "metadata": {},
   "source": [
    "According to the rule of thumb given by Cohen, how big of an effect size is this?\n",
    "\n",
    "\n",
    "Given this effect size, how many samples will we need to collect in order to not make a type II error?"
   ]
  },
  {
   "cell_type": "code",
   "execution_count": 3,
   "metadata": {},
   "outputs": [
    {
     "name": "stdout",
     "output_type": "stream",
     "text": [
      "Sample Size: 250.843\n"
     ]
    }
   ],
   "source": [
    "# Set Parameters \n",
    "\n",
    "effect = .29\n",
    "alpha = .05\n",
    "power = .9\n",
    "\n",
    "# Perform Power Analysis\n",
    "analysis = TTestIndPower()\n",
    "result = analysis.solve_power(effect, power=power, nobs1=None, ratio=1.0, alpha=alpha)\n",
    "print('Sample Size: %.3f' % result)"
   ]
  },
  {
   "cell_type": "code",
   "execution_count": 4,
   "metadata": {},
   "outputs": [
    {
     "data": {
      "text/html": [
       "<div>\n",
       "<style scoped>\n",
       "    .dataframe tbody tr th:only-of-type {\n",
       "        vertical-align: middle;\n",
       "    }\n",
       "\n",
       "    .dataframe tbody tr th {\n",
       "        vertical-align: top;\n",
       "    }\n",
       "\n",
       "    .dataframe thead th {\n",
       "        text-align: right;\n",
       "    }\n",
       "</style>\n",
       "<table border=\"1\" class=\"dataframe\">\n",
       "  <thead>\n",
       "    <tr style=\"text-align: right;\">\n",
       "      <th></th>\n",
       "      <th>Unnamed: 0</th>\n",
       "      <th>baseline</th>\n",
       "      <th>experiment</th>\n",
       "    </tr>\n",
       "  </thead>\n",
       "  <tbody>\n",
       "    <tr>\n",
       "      <td>0</td>\n",
       "      <td>1</td>\n",
       "      <td>6.584851</td>\n",
       "      <td>12.070477</td>\n",
       "    </tr>\n",
       "    <tr>\n",
       "      <td>1</td>\n",
       "      <td>2</td>\n",
       "      <td>8.199590</td>\n",
       "      <td>8.754982</td>\n",
       "    </tr>\n",
       "    <tr>\n",
       "      <td>2</td>\n",
       "      <td>3</td>\n",
       "      <td>4.853006</td>\n",
       "      <td>7.448798</td>\n",
       "    </tr>\n",
       "    <tr>\n",
       "      <td>3</td>\n",
       "      <td>4</td>\n",
       "      <td>6.617510</td>\n",
       "      <td>7.823632</td>\n",
       "    </tr>\n",
       "    <tr>\n",
       "      <td>4</td>\n",
       "      <td>5</td>\n",
       "      <td>7.615770</td>\n",
       "      <td>8.830345</td>\n",
       "    </tr>\n",
       "    <tr>\n",
       "      <td>...</td>\n",
       "      <td>...</td>\n",
       "      <td>...</td>\n",
       "      <td>...</td>\n",
       "    </tr>\n",
       "    <tr>\n",
       "      <td>127</td>\n",
       "      <td>128</td>\n",
       "      <td>7.968590</td>\n",
       "      <td>10.553795</td>\n",
       "    </tr>\n",
       "    <tr>\n",
       "      <td>128</td>\n",
       "      <td>129</td>\n",
       "      <td>7.346377</td>\n",
       "      <td>10.040481</td>\n",
       "    </tr>\n",
       "    <tr>\n",
       "      <td>129</td>\n",
       "      <td>130</td>\n",
       "      <td>1.436617</td>\n",
       "      <td>7.947673</td>\n",
       "    </tr>\n",
       "    <tr>\n",
       "      <td>130</td>\n",
       "      <td>131</td>\n",
       "      <td>6.285454</td>\n",
       "      <td>7.078833</td>\n",
       "    </tr>\n",
       "    <tr>\n",
       "      <td>131</td>\n",
       "      <td>132</td>\n",
       "      <td>0.277023</td>\n",
       "      <td>8.194120</td>\n",
       "    </tr>\n",
       "  </tbody>\n",
       "</table>\n",
       "<p>132 rows × 3 columns</p>\n",
       "</div>"
      ],
      "text/plain": [
       "     Unnamed: 0  baseline  experiment\n",
       "0             1  6.584851   12.070477\n",
       "1             2  8.199590    8.754982\n",
       "2             3  4.853006    7.448798\n",
       "3             4  6.617510    7.823632\n",
       "4             5  7.615770    8.830345\n",
       "..          ...       ...         ...\n",
       "127         128  7.968590   10.553795\n",
       "128         129  7.346377   10.040481\n",
       "129         130  1.436617    7.947673\n",
       "130         131  6.285454    7.078833\n",
       "131         132  0.277023    8.194120\n",
       "\n",
       "[132 rows x 3 columns]"
      ]
     },
     "execution_count": 4,
     "metadata": {},
     "output_type": "execute_result"
    }
   ],
   "source": [
    "import pandas as pd\n",
    "\n",
    "df = pd.read_csv(\"experiment_data.csv\")\n",
    "\n",
    "df"
   ]
  },
  {
   "cell_type": "markdown",
   "metadata": {},
   "source": [
    "what do we feed into a t-test? Independent variable, dependent variable, type of side test we want, POOLed st variance for this. "
   ]
  },
  {
   "cell_type": "code",
   "execution_count": 7,
   "metadata": {},
   "outputs": [
    {
     "name": "stdout",
     "output_type": "stream",
     "text": [
      "The critical value is: -12.735895121086049\n",
      "The p value value is: 3.046638134432578e-29\n",
      "Degrees of Freedom: 262.0\n"
     ]
    }
   ],
   "source": [
    "df = pd.read_csv(\"experiment_data.csv\")\n",
    "\n",
    "df\n",
    "\n",
    "big_test = sm.stats.weightstats.ttest_ind(df['baseline'], \n",
    "                               df['experiment'], \n",
    "                               alternative='two-sided', \n",
    "                               usevar='pooled', value=0)\n",
    "                                                          \n",
    "                                                          \n",
    "print(\"The critical value is:\", big_test[0])\n",
    "print(\"The p value value is:\", big_test[1])                                                          \n",
    "print(\"Degrees of Freedom:\", big_test[2])                                                          "
   ]
  },
  {
   "cell_type": "markdown",
   "metadata": {},
   "source": [
    "what does it not tel lus in this above? does not tell us the actual means. calculate this into mean, and can calc this into an effect size. "
   ]
  },
  {
   "cell_type": "code",
   "execution_count": 8,
   "metadata": {},
   "outputs": [
    {
     "name": "stdout",
     "output_type": "stream",
     "text": [
      "The Baseline Average was: 5.7554260891793865\n",
      "The Experiment Average was: 8.607012143722065\n"
     ]
    }
   ],
   "source": [
    "print(\"The Baseline Average was:\", df['baseline'].mean())\n",
    "print(\"The Experiment Average was:\", df['experiment'].mean())"
   ]
  },
  {
   "cell_type": "code",
   "execution_count": 10,
   "metadata": {},
   "outputs": [
    {
     "data": {
      "text/plain": [
       "-1.5508005846113697"
      ]
     },
     "execution_count": 10,
     "metadata": {},
     "output_type": "execute_result"
    }
   ],
   "source": [
    "bl = df['baseline'].mean()\n",
    "xl = df['experiment'].mean()\n",
    "ex_sd = df['experiment'].std()\n",
    "\n",
    "cohen_d(bl,xl, ex_sd)"
   ]
  },
  {
   "cell_type": "code",
   "execution_count": 6,
   "metadata": {},
   "outputs": [
    {
     "name": "stdout",
     "output_type": "stream",
     "text": [
      "AB Interpretation.ipynb   create_dummy_data.R       experiment_data_small.csv\r\n",
      "README.md                 experiment_data.csv\r\n"
     ]
    }
   ],
   "source": [
    "!ls"
   ]
  },
  {
   "cell_type": "markdown",
   "metadata": {},
   "source": [
    "# Your Turn! \n",
    "\n",
    "Find the file `experiment_data_small.csv` in the current working directory and run a t-test on this data.\n",
    "\n",
    "* First report the p value of the test\n",
    "* Second, write a statement on what the p value means\n",
    "* Third, use the function from above to calculate the effect size\n",
    "* Fourth, write a paragraph reccomending if we should adopt the change made by the second AB test we have run!\n",
    "\n",
    "Be prepared to be assigned to a side where you advocate for adopting the new change or not adopting the new change!"
   ]
  },
  {
   "cell_type": "markdown",
   "metadata": {},
   "source": [
    "take this code, run it on the data set written above. "
   ]
  },
  {
   "cell_type": "code",
   "execution_count": 14,
   "metadata": {},
   "outputs": [
    {
     "data": {
      "text/html": [
       "<div>\n",
       "<style scoped>\n",
       "    .dataframe tbody tr th:only-of-type {\n",
       "        vertical-align: middle;\n",
       "    }\n",
       "\n",
       "    .dataframe tbody tr th {\n",
       "        vertical-align: top;\n",
       "    }\n",
       "\n",
       "    .dataframe thead th {\n",
       "        text-align: right;\n",
       "    }\n",
       "</style>\n",
       "<table border=\"1\" class=\"dataframe\">\n",
       "  <thead>\n",
       "    <tr style=\"text-align: right;\">\n",
       "      <th></th>\n",
       "      <th>Unnamed: 0</th>\n",
       "      <th>baseline_small</th>\n",
       "      <th>experiment_small</th>\n",
       "    </tr>\n",
       "  </thead>\n",
       "  <tbody>\n",
       "    <tr>\n",
       "      <td>0</td>\n",
       "      <td>1</td>\n",
       "      <td>4.089394</td>\n",
       "      <td>5.506201</td>\n",
       "    </tr>\n",
       "    <tr>\n",
       "      <td>1</td>\n",
       "      <td>2</td>\n",
       "      <td>10.884680</td>\n",
       "      <td>26.349077</td>\n",
       "    </tr>\n",
       "    <tr>\n",
       "      <td>2</td>\n",
       "      <td>3</td>\n",
       "      <td>17.741562</td>\n",
       "      <td>-18.941091</td>\n",
       "    </tr>\n",
       "    <tr>\n",
       "      <td>3</td>\n",
       "      <td>4</td>\n",
       "      <td>10.170520</td>\n",
       "      <td>33.235422</td>\n",
       "    </tr>\n",
       "    <tr>\n",
       "      <td>4</td>\n",
       "      <td>5</td>\n",
       "      <td>8.978086</td>\n",
       "      <td>8.503653</td>\n",
       "    </tr>\n",
       "  </tbody>\n",
       "</table>\n",
       "</div>"
      ],
      "text/plain": [
       "   Unnamed: 0  baseline_small  experiment_small\n",
       "0           1        4.089394          5.506201\n",
       "1           2       10.884680         26.349077\n",
       "2           3       17.741562        -18.941091\n",
       "3           4       10.170520         33.235422\n",
       "4           5        8.978086          8.503653"
      ]
     },
     "execution_count": 14,
     "metadata": {},
     "output_type": "execute_result"
    }
   ],
   "source": [
    "df2 = pd.read_csv('experiment_data_small.csv')\n",
    "df2.head()\n"
   ]
  },
  {
   "cell_type": "code",
   "execution_count": 16,
   "metadata": {},
   "outputs": [
    {
     "name": "stdout",
     "output_type": "stream",
     "text": [
      "The critical value is: -1.7634617073452414\n",
      "The p value value is: 0.08308969146581927\n",
      "Degrees of Freedom: 58.0\n"
     ]
    }
   ],
   "source": [
    "small_test = sm.stats.weightstats.ttest_ind(df2['baseline_small'], \n",
    "                               df2['experiment_small'], \n",
    "                               alternative='two-sided', \n",
    "                               usevar='pooled', value=0)\n",
    "                                                          \n",
    "                                                          \n",
    "print(\"The critical value is:\", small_test[0])\n",
    "print(\"The p value value is:\", small_test[1])                                                          \n",
    "print(\"Degrees of Freedom:\", small_test[2])  "
   ]
  },
  {
   "cell_type": "markdown",
   "metadata": {},
   "source": [
    "The p value here is greater than .05, this means that we cannont conclude a significant error exists within this test. As opposed to the p value above, there is no huge significance that this test has shown. "
   ]
  },
  {
   "cell_type": "code",
   "execution_count": 18,
   "metadata": {},
   "outputs": [
    {
     "data": {
      "text/plain": [
       "-0.39762363228706543"
      ]
     },
     "execution_count": 18,
     "metadata": {},
     "output_type": "execute_result"
    }
   ],
   "source": [
    "bl2 = df['baseline_small'].mean()\n",
    "xl2 = df['experiment_small'].mean()\n",
    "ex_sd2 = df['experiment_small'].std()\n",
    "\n",
    "cohen_d(bl2,xl2, ex_sd2)"
   ]
  },
  {
   "cell_type": "markdown",
   "metadata": {},
   "source": [
    "Okay, so I am going to attempt to elaborate on the meaning of this effect size that I have computed. There are a couple of things that I googled and it makes me raise an eyebrow. I'm sure it's not relevant here, but according to wikipedia, the effect size has to do with cohen's conventional criteria small, medium, or large. These criteria are relevant to the behavioural science we're doing and the specific content. In this dataset I'm not exactly sure what I'm supposed to be looking at because I don't know the dataset well. \n",
    "I do not have the information to tell you whether small was the most efficient way of analysing the critical and p value especially with regards to the effect size and degrees of freedom. "
   ]
  },
  {
   "cell_type": "markdown",
   "metadata": {},
   "source": [
    "Looking at the number of effect size with regards to the relationship between the two variables (baseline small and experiment small) I am having trouble understanding it. A big reason for this is I do not have context to what I'm measuring. Is it weights in this experiment? If so going into the negative could be a good sign? "
   ]
  }
 ],
 "metadata": {
  "kernelspec": {
   "display_name": "Python 3",
   "language": "python",
   "name": "python3"
  },
  "language_info": {
   "codemirror_mode": {
    "name": "ipython",
    "version": 3
   },
   "file_extension": ".py",
   "mimetype": "text/x-python",
   "name": "python",
   "nbconvert_exporter": "python",
   "pygments_lexer": "ipython3",
   "version": "3.7.4"
  }
 },
 "nbformat": 4,
 "nbformat_minor": 2
}
